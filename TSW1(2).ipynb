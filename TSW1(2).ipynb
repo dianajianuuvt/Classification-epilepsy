import zipfile
import os

#dearhivare
uploaded_file_path = "ML_dataset.zip"
extraction_dir = "ML_dataset"

with zipfile.ZipFile(uploaded_file_path, 'r') as zip_ref:
    zip_ref.extractall(extraction_dir)

print(f"Files extracted to: {extraction_dir}")

import numpy as np
import tensorflow as tf
from sklearn.model_selection import train_test_split
from tensorflow.keras.preprocessing.sequence import pad_sequences
from sklearn.metrics import confusion_matrix
import matplotlib.pyplot as plt
import seaborn as sns


base_dir = "ML_dataset/ML_dataset"
directories = ['S', 'Z']
labels_map = {'S': 1, 'Z': 0}  #1 = epileptic 0 = healthy

X, y = [], [] #lists
max_length = 1500  #fixed length for all time series

for folder_name in directories:
    folder_path = os.path.join(base_dir, folder_name)   #to know in what subdirectory we are
    for file in os.listdir(folder_path):
        file_path = os.path.join(folder_path, file)
        print(file_path)
        data = np.loadtxt(file_path)  #time series represented by the files
        X.append(data) #data from each file goes into input
        y.append(labels_map[folder_name]) #adds labels

X = pad_sequences(X, maxlen=max_length, padding='post', truncating='post') #all timeseries become 1000 numbers long
y = np.array(y) #for ML np.array more efficient than lists

X_train, X_test, y_train, y_test = train_test_split(X, y, test_size=0.2, random_state=60)

#simole feedforward nn
model = tf.keras.Sequential([
    tf.keras.layers.Input(shape=(max_length,)),  #input layer
    tf.keras.layers.Dense(16, activation='relu'), #hidden layer (16 neurons)
    tf.keras.layers.Dense(1, activation='sigmoid') #output layer (1 neuron)
])

model.compile(optimizer='adam', loss='binary_crossentropy', metrics=['accuracy'])

model.fit(X_train, y_train, epochs=100, batch_size=32, validation_split=0.2)

test_loss, test_acc = model.evaluate(X_test, y_test)
print(f"Test Accuracy: {test_acc:.4f}")

predictions = model.predict(X_test)
predicted_labels = (predictions > 0.5).astype(int) #converts probabilities given by sigmoid function into 0 and 1; false=0 (healthy) and true=1 (epileptic)
conf_matrix = confusion_matrix(y_test, predicted_labels)
plt.figure(figsize=(6, 5))
print("Confusion Matrix:\n", conf_matrix)
sns.heatmap(conf_matrix, annot=True, fmt="d", cmap="Blues",
            xticklabels=['Healthy (0)', 'Epileptic (1)'],
            yticklabels=['Healthy (0)', 'Epileptic (1)'])
plt.xlabel("Predicted Label")
plt.ylabel("True Label")
plt.title("Confusion Matrix")
plt.show()

import os
import numpy as np
from sklearn.model_selection import train_test_split
from sklearn.preprocessing import MinMaxScaler
from sklearn.neural_network import MLPClassifier
from sklearn.metrics import accuracy_score
from sklearn.metrics import confusion_matrix

total_conf_matrix = np.zeros((2, 2))

base_dir = "ML_dataset/ML_dataset"
directories = ['S', 'Z']
labels_map = {'S': 1, 'Z': 0}  # 1 = epileptic, 0 = healthy

X, y = [], []

for folder_name in directories:
    folder_path = os.path.join(base_dir, folder_name)
    for file in os.listdir(folder_path):
        file_path = os.path.join(folder_path, file)
        #print(f"Loading: {file_path}")
        data = np.loadtxt(file_path)
        X.append(data)  #
        y.append(labels_map[folder_name])

X = np.array(X)
y = np.array(y)
repeats = 100
accuracies = []

for i in range(repeats):
    print(f"Iteration {i+1}/{repeats}")
    X_train, X_test, y_train, y_test = train_test_split(X, y, test_size=0.2)
    scaler = MinMaxScaler()
    X_train_scaled = scaler.fit_transform(X_train)
    X_test_scaled = scaler.transform(X_test)
    mlp = MLPClassifier(hidden_layer_sizes=(16, 8, 1), solver='adam', activation='tanh', max_iter=10000)
    mlp.fit(X_train_scaled, y_train)
    y_pred = mlp.predict(X_test_scaled)
    accuracy = accuracy_score(y_test, y_pred)
    accuracies.append(accuracy)
    total_conf_matrix += confusion_matrix(y_test, y_pred)

print("Accuracies across 100 iterations:", accuracies)
print(f"Mean Accuracy: {np.mean(accuracies):.4f}")
print("Aggregated Confusion Matrix:\n", total_conf_matrix)

import matplotlib.pyplot as plt
import seaborn as sns

labels = ['Healthy (Z)', 'Epileptic (S)']
plt.figure(figsize=(6, 5))
sns.heatmap(total_conf_matrix, annot=True, fmt=".0f", cmap="Blues", xticklabels=labels, yticklabels=labels)
plt.xlabel("Predicted Labels")
plt.ylabel("True Labels")
plt.title("Aggregated Confusion Matrix")
plt.show()
